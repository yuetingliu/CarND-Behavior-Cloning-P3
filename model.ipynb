{
 "cells": [
  {
   "cell_type": "code",
   "execution_count": 1,
   "metadata": {},
   "outputs": [
    {
     "name": "stderr",
     "output_type": "stream",
     "text": [
      "Using TensorFlow backend.\n"
     ]
    }
   ],
   "source": [
    "import csv\n",
    "import numpy as np\n",
    "import tensorflow as tf\n",
    "import keras\n",
    "import cv2\n",
    "from matplotlib import pyplot as plt"
   ]
  },
  {
   "cell_type": "code",
   "execution_count": 2,
   "metadata": {
    "collapsed": true
   },
   "outputs": [],
   "source": [
    "# Define a function for loading images and steering angles\n",
    "def preprocess_img(image):\n",
    "    # Crop the top 50 pixes\n",
    "    img = image[50:, :, :]\n",
    "    # Resize to 200*66\n",
    "    img = cv2.resize(img, (200, 66))\n",
    "    return img\n",
    "\n",
    "def load_data(data):\n",
    "    '''\n",
    "    Get the images and the steering angles\n",
    "    Params:\n",
    "    data: the folder where images and logfile are stored\n",
    "    The the first line of the logfile consists of names. All the rest lines consist of the locations of images, \n",
    "    steering angles, and other data. To load the images and steering angles, the first line is omitted.\n",
    "    '''\n",
    "    images = []\n",
    "    steers = []\n",
    "    loc = data + '/driving_log.csv'\n",
    "    with open(loc) as csvfile:\n",
    "        reader = csv.reader(csvfile)\n",
    "        i = 0 # This count is for omitting the first line of the logfile\n",
    "        for line in reader:\n",
    "        # Skip the header \n",
    "            if i > 0:\n",
    "                # First, get the image name for the middle, left, right cameras\n",
    "                path_mid = line[0].split('/')[-1]\n",
    "                path_left = line[1].split('/')[-1]\n",
    "                path_right = line[2].split('/')[-1]\n",
    "                # Second, get the image path\n",
    "                img_path_mid = data + '/IMG/' + path_mid\n",
    "                img_path_left = data + '/IMG/' + path_left\n",
    "                img_path_right = data + '/IMG/' + path_right\n",
    "                # Third, load the images \n",
    "                # cv2 loads images as BGR, convert to RGB\n",
    "                img = cv2.imread(img_path_mid)[:, :, ::-1]\n",
    "                img = preprocess_img(img)\n",
    "                img_left = cv2.imread(img_path_left)[:, :, ::-1]\n",
    "                img_left = preprocess_img(img_left)\n",
    "                img_right = cv2.imread(img_path_right)[:, :, ::-1]\n",
    "                img_right = preprocess_img(img_right)\n",
    "                # Finally, append all images and corresponding steering angles into lists. \n",
    "                # Left and right camera images are there for steering cars to the middle, 0.5 is chosen for correction\n",
    "                images.append(img)\n",
    "                steers.append(float(line[3]))\n",
    "                images.append(img_left)\n",
    "                steers.append(0.9)\n",
    "                images.append(img_right)\n",
    "                steers.append(-0.9)\n",
    "                # Flip the middle images \n",
    "                img2 = np.fliplr(img)\n",
    "                images.append(img2)\n",
    "                steers.append(-float(line[3]))\n",
    "            i += 1\n",
    "    return images, steers"
   ]
  },
  {
   "cell_type": "code",
   "execution_count": 3,
   "metadata": {
    "collapsed": true
   },
   "outputs": [],
   "source": [
    "# shuffle the images and split into training and validation sets\n",
    "def train_valid_split(images, steers, valid_size = 0.05):\n",
    "    ind = np.arange(len(images))\n",
    "    np.random.seed(42)\n",
    "    np.random.shuffle(ind)\n",
    "    cutoff = int(len(ind)*(1-valid_size))\n",
    "    train_ind = ind[:cutoff]\n",
    "    valid_ind = ind[cutoff:]\n",
    "    train_images = [images[i] for i in train_ind]\n",
    "    valid_images = [images[i] for i in valid_ind]\n",
    "    train_steers = [steers[i] for i in train_ind]\n",
    "    valid_steers = [steers[i] for i in valid_ind]\n",
    "    return train_images, train_steers, valid_images, valid_steers\n",
    "\n",
    "# Define a generator for memory saving. Put the generator into a while loop to avoid running out of data during training\n",
    "def generator_(X, y, batch_size = 64):\n",
    "    while True:\n",
    "        for offset in range(0, len(X), batch_size):\n",
    "            end = offset + batch_size\n",
    "            X_batch = np.array(X[offset:end])\n",
    "            y_batch = np.array(y[offset:end])\n",
    "            yield X_batch, y_batch"
   ]
  },
  {
   "cell_type": "code",
   "execution_count": 4,
   "metadata": {
    "collapsed": true
   },
   "outputs": [],
   "source": [
    "def trim_data(images, steers, nb_bins=40, cutoff=2000):\n",
    "    \"\"\"Make the training data distribution less steep by discarding some data\n",
    "    \n",
    "    Params: \n",
    "    nb_bins: the number of bins for counting steers angles\n",
    "    cutoff: the value threshold, if a steering angle has more samples than it, then remove part of the data\n",
    "    \n",
    "    Return: trimmed images and steering angles\n",
    "    \"\"\"\n",
    "    hist, bins = np.histogram(steers, bins=np.linspace(-1,1, nb_bins))\n",
    "    # Find the bins that need to discard some data\n",
    "    bin_ind_to_remove = [i for i in range(len(hist)) if hist[i]>cutoff]\n",
    "\n",
    "    # Calculate the probability to keep for the selected bins. \n",
    "    # The prob equals the average adjacent bin counts divided by the real counts of the bin\n",
    "    keep_prob = [(hist[i-1]+hist[i+1])/(2*hist[i]) for i in bin_ind_to_remove]\n",
    "\n",
    "    # Create an index for data deletion\n",
    "    index2delete = []\n",
    "    for i in range(len(steers)):\n",
    "        for j in bin_ind_to_remove:\n",
    "            if steers[i] > bins[j] and steers[i] <= bins[j+1]:\n",
    "                if np.random.random() > keep_prob[bin_ind_to_remove.index(j)]:\n",
    "                    index2delete.append(i)\n",
    "    images = [images[i] for i in range(len(images)) if i not in index2delete]\n",
    "    steers = [steers[i] for i in range(len(steers)) if i not in index2delete]\n",
    "#     print('{} hist in {} bins'.format(len(hist), len(bins)))\n",
    "#     print('')\n",
    "#     print('The trimmed steering angles are in bins: {}'.format([(bins[i], bins[i+1]) for i in bin_ind_to_remove]),\n",
    "#           'The respective keep probabilities are: {}'.format(keep_prob))\n",
    "    return images, steers"
   ]
  },
  {
   "cell_type": "code",
   "execution_count": 6,
   "metadata": {
    "collapsed": true
   },
   "outputs": [],
   "source": [
    "# Get the images and steering angle data\n",
    "images, steers = [], []\n",
    "image, steer = load_data('./data')\n",
    "images.extend(image)\n",
    "steers.extend(steer)\n",
    "    "
   ]
  },
  {
   "cell_type": "code",
   "execution_count": 7,
   "metadata": {
    "collapsed": true
   },
   "outputs": [],
   "source": [
    "trimmed_images, trimmed_steers = trim_data(images, steers) "
   ]
  },
  {
   "cell_type": "code",
   "execution_count": 9,
   "metadata": {},
   "outputs": [
    {
     "data": {
      "image/png": "[encoded data removed]",
      "text/plain": [
       "<matplotlib.figure.Figure at 0x7f33dcdd9710>"
      ]
     },
     "metadata": {},
     "output_type": "display_data"
    }
   ],
   "source": [
    "# Visualize the steering angles distribution\n",
    "fig, axes = plt.subplots(1, 2, figsize=(8, 3))\n",
    "axes[0].hist(steers, bins=40)\n",
    "# axes[0].set_ylim(0, 5000)\n",
    "axes[1].hist(trimmed_steers,bins=40)\n",
    "axes[1].set_ylim(0, 1200)\n",
    "plt.subplots_adjust(wspace=0.5)\n",
    "\n",
    "plt.show()\n",
    "fig.savefig('Data_distribution.png', dpi=300)"
   ]
  },
  {
   "cell_type": "code",
   "execution_count": 33,
   "metadata": {
    "collapsed": true
   },
   "outputs": [],
   "source": [
    "# Split the data into training and validation sets\n",
    "train_images, train_steers, valid_images, valid_steers = train_valid_split(trimmed_images, trimmed_steers)"
   ]
  },
  {
   "cell_type": "code",
   "execution_count": 34,
   "metadata": {
    "collapsed": true
   },
   "outputs": [],
   "source": [
    "from keras.models import Sequential\n",
    "from keras.layers import Flatten, Dense\n",
    "from keras.layers import Convolution2D, Lambda, Cropping2D\n",
    "from keras.layers import Dropout"
   ]
  },
  {
   "cell_type": "code",
   "execution_count": 35,
   "metadata": {},
   "outputs": [
    {
     "name": "stdout",
     "output_type": "stream",
     "text": [
      "Epoch 1/10\n",
      "7164/7164 [==============================] - 6s - loss: 0.0442 - val_loss: 0.0270\n",
      "Epoch 2/10\n",
      "7164/7164 [==============================] - 6s - loss: 0.0301 - val_loss: 0.0247\n",
      "Epoch 3/10\n",
      "7164/7164 [==============================] - 6s - loss: 0.0247 - val_loss: 0.0230\n",
      "Epoch 4/10\n",
      "7164/7164 [==============================] - 6s - loss: 0.0222 - val_loss: 0.0220\n",
      "Epoch 5/10\n",
      "7164/7164 [==============================] - 6s - loss: 0.0204 - val_loss: 0.0213\n",
      "Epoch 6/10\n",
      "7164/7164 [==============================] - 6s - loss: 0.0196 - val_loss: 0.0207\n",
      "Epoch 7/10\n",
      "7164/7164 [==============================] - 6s - loss: 0.0185 - val_loss: 0.0201\n",
      "Epoch 8/10\n",
      "7164/7164 [==============================] - 6s - loss: 0.0175 - val_loss: 0.0201\n",
      "Epoch 9/10\n",
      "7164/7164 [==============================] - 6s - loss: 0.0169 - val_loss: 0.0197\n",
      "Epoch 10/10\n",
      "7164/7164 [==============================] - 6s - loss: 0.0168 - val_loss: 0.0196\n"
     ]
    }
   ],
   "source": [
    "# The model is similar with the model from Nvidia paper: Nvidia_X End-to-End Deep Learning for Self-Driving Cars\n",
    "model = Sequential()\n",
    "\n",
    "#input image size is 160*320*3\n",
    "model.add(Lambda(lambda x: x/127.5-1, input_shape=images[0].shape))\n",
    "model.add(Convolution2D(24, 5, 5, subsample=(2,2), border_mode='valid', activation='elu'))\n",
    "model.add(Convolution2D(36, 5, 5, subsample=(2,2), border_mode='valid', activation='elu'))\n",
    "model.add(Convolution2D(48, 5, 5, subsample=(2,2), border_mode='valid', activation='elu'))\n",
    "model.add(Convolution2D(64, 3, 3, activation='elu'))\n",
    "model.add(Convolution2D(64, 3, 3, activation='elu'))\n",
    "\n",
    "model.add(Flatten())\n",
    "model.add(Dropout(0.2))\n",
    "model.add(Dense(100, activation='elu'))\n",
    "model.add(Dense(50, activation='elu'))\n",
    "model.add(Dense(10, activation='elu'))\n",
    "model.add(Dropout(0.5))\n",
    "model.add(Dense(1))\n",
    "\n",
    "model.compile(loss='mse', optimizer=keras.optimizers.adam(lr=0.0001))\n",
    "hist = model.fit_generator(generator_(train_images, train_steers), samples_per_epoch=len(train_images), \n",
    "       validation_data = generator_(valid_images, valid_steers), nb_val_samples = len(valid_images), nb_epoch=10)\n",
    "model.save('model.h5')\n",
    "with open('./model.json' ,'w') as f:\n",
    "    f.write(model.to_json())"
   ]
  }
 ],
 "metadata": {
  "kernelspec": {
   "display_name": "Python 3",
   "language": "python",
   "name": "python3"
  },
  "language_info": {
   "codemirror_mode": {
    "name": "ipython",
    "version": 3
   },
   "file_extension": ".py",
   "mimetype": "text/x-python",
   "name": "python",
   "nbconvert_exporter": "python",
   "pygments_lexer": "ipython3",
   "version": "3.5.2"
  },
  "widgets": {
   "state": {},
   "version": "1.1.2"
  }
 },
 "nbformat": 4,
 "nbformat_minor": 2
}
